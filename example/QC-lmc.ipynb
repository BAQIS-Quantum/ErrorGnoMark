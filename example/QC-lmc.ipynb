{
 "cells": [
  {
   "cell_type": "markdown",
   "metadata": {},
   "source": [
    "# A User Guide for Local QC Measurement & Control System"
   ]
  },
  {
   "cell_type": "markdown",
   "metadata": {},
   "source": [
    "If you are using a local quantum computing (QC) measurement and control system, you can access the complete chip information online, including its topology and connectivity.\n",
    "\n",
    "### Example: The following example demonstrates how to initialize an `ErrorGnoMarker`:\n",
    "\n",
    "\"\"\"Notes:\n",
    "This example automatically defines a 5x5 chip structure.\n",
    "The system selects 9 qubits: [0, 1, 2, 3, 4, 5, 6, 7, 8].\n",
    "The chip, qubit index list, and qubit connectivity can be customized by the user.\n",
    "To run on an actual chip, users need to register and provide a valid token.\"\"\""
   ]
  },
  {
   "cell_type": "code",
   "execution_count": null,
   "metadata": {},
   "outputs": [],
   "source": [
    "## Step 1: Initialize the ErrorGnoMarker object\n",
    "egm = Errorgnomarker(chip_name=\"QXX\")"
   ]
  },
  {
   "cell_type": "markdown",
   "metadata": {},
   "source": [
    "## Step 2: Run Diagnostics and Benchmarking\n",
    "Example: The following example demonstrates how to execute diagnostics and benchmarking for the chip:\n",
    "\n",
    "\"\"\"Notes:\n",
    "egm_level='level_2': Retrieves detailed noise information for the chip.\n",
    "visual_table=True: Outputs a comprehensive diagnostic report in table format.\n",
    "visual_figure=True: Generates and saves visualized diagnostic results.\n",
    "Users can customize the benchmarking schemes as needed. The above example runs with default settings for demonstration purposes.\"\"\"\n"
   ]
  },
  {
   "cell_type": "code",
   "execution_count": null,
   "metadata": {},
   "outputs": [],
   "source": [
    "egm.egm_run(egm_level='level_2', visual_table=True, visual_figure=True)"
   ]
  }
 ],
 "metadata": {
  "kernelspec": {
   "display_name": "base",
   "language": "python",
   "name": "python3"
  },
  "language_info": {
   "codemirror_mode": {
    "name": "ipython",
    "version": 3
   },
   "file_extension": ".py",
   "mimetype": "text/x-python",
   "name": "python",
   "nbconvert_exporter": "python",
   "pygments_lexer": "ipython3",
   "version": "3.11.7"
  }
 },
 "nbformat": 4,
 "nbformat_minor": 2
}
